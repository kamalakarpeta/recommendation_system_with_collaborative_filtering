{
 "cells": [
  {
   "cell_type": "markdown",
   "id": "f687fee3",
   "metadata": {},
   "source": [
    "Here is a basic Python script using Jupyter Notebook for building a recommendation system with collaborative filtering using the Surprise library. This script uses the MovieLens dataset which is inbuilt in the Surprise library."
   ]
  },
  {
   "cell_type": "code",
   "execution_count": 2,
   "id": "d1e83237",
   "metadata": {},
   "outputs": [
    {
     "name": "stdout",
     "output_type": "stream",
     "text": [
      "Dataset ml-100k could not be found. Do you want to download it? [Y/n] Y\n",
      "Trying to download dataset from https://files.grouplens.org/datasets/movielens/ml-100k.zip...\n",
      "Done! Dataset ml-100k has been saved to C:\\Users\\kamalap1/.surprise_data/ml-100k\n",
      "Computing the cosine similarity matrix...\n",
      "Done computing similarity matrix.\n",
      "Computing the cosine similarity matrix...\n",
      "Done computing similarity matrix.\n",
      "Computing the cosine similarity matrix...\n",
      "Done computing similarity matrix.\n",
      "Computing the cosine similarity matrix...\n",
      "Done computing similarity matrix.\n",
      "Computing the cosine similarity matrix...\n",
      "Done computing similarity matrix.\n",
      "Evaluating RMSE, MAE of algorithm KNNBasic on 5 split(s).\n",
      "\n",
      "                  Fold 1  Fold 2  Fold 3  Fold 4  Fold 5  Mean    Std     \n",
      "RMSE (testset)    1.0261  1.0280  1.0304  1.0310  1.0212  1.0273  0.0035  \n",
      "MAE (testset)     0.8088  0.8128  0.8149  0.8170  0.8078  0.8123  0.0035  \n",
      "Fit time          1.45    1.21    1.19    1.27    1.95    1.41    0.28    \n",
      "Test time         2.94    2.84    2.78    2.76    3.71    3.01    0.36    \n"
     ]
    },
    {
     "data": {
      "text/plain": [
       "{'test_rmse': array([1.02608364, 1.02800795, 1.03044266, 1.03095201, 1.02117239]),\n",
       " 'test_mae': array([0.8087924 , 0.81277873, 0.81491981, 0.81699988, 0.80779383]),\n",
       " 'fit_time': (1.448932409286499,\n",
       "  1.2102315425872803,\n",
       "  1.1882891654968262,\n",
       "  1.2651288509368896,\n",
       "  1.9457128047943115),\n",
       " 'test_time': (2.93818736076355,\n",
       "  2.8423314094543457,\n",
       "  2.781707286834717,\n",
       "  2.7626874446868896,\n",
       "  3.7093875408172607)}"
      ]
     },
     "execution_count": 2,
     "metadata": {},
     "output_type": "execute_result"
    }
   ],
   "source": [
    "# Import necessary libraries\n",
    "from surprise import Dataset, Reader, KNNBasic\n",
    "from surprise.model_selection import cross_validate\n",
    "\n",
    "# Load the movielens-100k dataset (download it if needed),\n",
    "data = Dataset.load_builtin('ml-100k')\n",
    "\n",
    "# Define the algorithm object; we'll use k-NN\n",
    "sim_options = {\n",
    "    'name': 'cosine',  # similarity measure default is MSD\n",
    "    'user_based': False  # compute  similarities between items\n",
    "}\n",
    "algo = KNNBasic(sim_options=sim_options)\n",
    "\n",
    "# Run 5-fold cross-validation and print results\n",
    "cross_validate(algo, data, measures=['RMSE', 'MAE'], cv=5, verbose=True)"
   ]
  },
  {
   "cell_type": "markdown",
   "id": "d30c4022",
   "metadata": {},
   "source": [
    "This script first imports the necessary modules from the Surprise library. Then it loads the MovieLens dataset. The algorithm used here is k-nearest neighbors (k-NN), a basic collaborative filtering algorithm. The similarity options are set to use cosine similarity and item-based collaborative filtering (as opposed to user-based).\n",
    "\n",
    "The script then performs a 5-fold cross-validation on the dataset using the k-NN algorithm, and prints the root mean square error (RMSE) and mean absolute error (MAE) for each fold. These are common measures of accuracy for recommendation systems.\n",
    "Please note that this is a very basic recommendation system and there are many ways to improve it, such as using a more advanced algorithm (e.g., SVD, NMF), tuning the parameters of the algorithm, or incorporating additional information (e.g., user or item features)."
   ]
  },
  {
   "cell_type": "markdown",
   "id": "a89367e1",
   "metadata": {},
   "source": [
    "After training your model, you can use it to predict the rating a user would give to an item they have not interacted with. Here's how to do it:"
   ]
  },
  {
   "cell_type": "code",
   "execution_count": 3,
   "id": "05e7681f",
   "metadata": {},
   "outputs": [
    {
     "name": "stdout",
     "output_type": "stream",
     "text": [
      "Computing the cosine similarity matrix...\n",
      "Done computing similarity matrix.\n",
      "RMSE: 1.0280\n"
     ]
    },
    {
     "data": {
      "text/plain": [
       "1.027958083682903"
      ]
     },
     "execution_count": 3,
     "metadata": {},
     "output_type": "execute_result"
    }
   ],
   "source": [
    "from surprise import Dataset, Reader, KNNBasic, accuracy\n",
    "from surprise.model_selection import train_test_split\n",
    "\n",
    "# Load the movielens-100k dataset\n",
    "data = Dataset.load_builtin('ml-100k')\n",
    "\n",
    "# Split the dataset into train and test\n",
    "trainset, testset = train_test_split(data, test_size=0.25)\n",
    "\n",
    "# Define the algorithm object; we'll use k-NN\n",
    "sim_options = {\n",
    "    'name': 'cosine',  # similarity measure default is MSD\n",
    "    'user_based': False  # compute  similarities between items\n",
    "}\n",
    "algo = KNNBasic(sim_options=sim_options)\n",
    "\n",
    "# Train the algorithm on the trainset\n",
    "algo.fit(trainset)\n",
    "\n",
    "# Predict ratings for the testset\n",
    "predictions = algo.test(testset)\n",
    "\n",
    "# Then compute RMSE\n",
    "accuracy.rmse(predictions)"
   ]
  },
  {
   "cell_type": "markdown",
   "id": "c913200d",
   "metadata": {},
   "source": [
    "In this script, the dataset is split into a training set and a testing set. The model is trained on the training set using the KNNBasic algorithm. Then, the trained model is used to predict the ratings for the interactions in the test set. The accuracy of the predictions is evaluated by computing the root mean square error (RMSE) between the predicted ratings and the actual ratings.\n",
    "\n",
    "Please note that this is a simple evaluation method. There are more complex methods available, such as precision@k or recall@k, which consider the ranking of recommendations, not just the predicted ratings. The choice of evaluation method depends on the specific requirements of your recommendation system."
   ]
  },
  {
   "cell_type": "code",
   "execution_count": 4,
   "id": "687bd068",
   "metadata": {},
   "outputs": [
    {
     "name": "stdout",
     "output_type": "stream",
     "text": [
      "User: 186 Item: 118 Actual Rating: 2.0 Predicted Rating: 3.7459888017285663\n",
      "User: 44 Item: 21 Actual Rating: 2.0 Predicted Rating: 3.898897159556349\n",
      "User: 655 Item: 4 Actual Rating: 2.0 Predicted Rating: 2.874927799678351\n",
      "User: 758 Item: 387 Actual Rating: 2.0 Predicted Rating: 3.998939895051122\n",
      "User: 751 Item: 945 Actual Rating: 3.0 Predicted Rating: 3.3969236020337092\n",
      "User: 260 Item: 333 Actual Rating: 4.0 Predicted Rating: 4.148377795893102\n",
      "User: 60 Item: 420 Actual Rating: 4.0 Predicted Rating: 4.176079115919704\n",
      "User: 639 Item: 174 Actual Rating: 4.0 Predicted Rating: 3.175981338194002\n",
      "User: 851 Item: 412 Actual Rating: 2.0 Predicted Rating: 3.020033777327246\n",
      "User: 684 Item: 70 Actual Rating: 4.0 Predicted Rating: 3.822521572006314\n"
     ]
    }
   ],
   "source": [
    "# Print the first 10 predictions\n",
    "for i in range(10):\n",
    "    print('User:', predictions[i].uid, 'Item:', predictions[i].iid, 'Actual Rating:', predictions[i].r_ui, 'Predicted Rating:', predictions[i].est)"
   ]
  },
  {
   "cell_type": "markdown",
   "id": "92e4214f",
   "metadata": {},
   "source": [
    "In the last part of the script, a loop is used to print the user and item IDs, the actual rating, and the predicted rating for the first 10 instances in the test set. This information can be useful for understanding how well the recommendation system is working."
   ]
  }
 ],
 "metadata": {
  "kernelspec": {
   "display_name": "Python 3 (ipykernel)",
   "language": "python",
   "name": "python3"
  },
  "language_info": {
   "codemirror_mode": {
    "name": "ipython",
    "version": 3
   },
   "file_extension": ".py",
   "mimetype": "text/x-python",
   "name": "python",
   "nbconvert_exporter": "python",
   "pygments_lexer": "ipython3",
   "version": "3.9.13"
  }
 },
 "nbformat": 4,
 "nbformat_minor": 5
}
